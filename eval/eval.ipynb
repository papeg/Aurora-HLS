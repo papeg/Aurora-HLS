{
 "cells": [
  {
   "cell_type": "code",
   "execution_count": 14,
   "metadata": {},
   "outputs": [],
   "source": [
    "using CSV\n",
    "using DataFrames\n",
    "using Statistics"
   ]
  },
  {
   "cell_type": "code",
   "execution_count": null,
   "metadata": {},
   "outputs": [],
   "source": [
    "file = \"latency_tests.csv\"\n",
    "#file = \"simple_tests.csv\""
   ]
  },
  {
   "cell_type": "code",
   "execution_count": null,
   "metadata": {},
   "outputs": [],
   "source": [
    "results = CSV.read(file, DataFrame, header = [\n",
    "    \"hostname\",\n",
    "    \"job_id\",\n",
    "    \"commit_id\",\n",
    "    \"xrt_version\",\n",
    "    \"bdf\",\n",
    "    \"rank\",\n",
    "    \"repetition\",\n",
    "    \"frame_size\",\n",
    "    \"message_size\",\n",
    "    \"iterations\",\n",
    "    \"test_nfc\",        \n",
    "    \"transmission_time\",\n",
    "    \"failed_transmissions\",\n",
    "    \"status_not_ok_count\",\n",
    "    \"fifo_rx_overflow_count\",\n",
    "    \"fifo_tx_overflow_count\",\n",
    "    \"byte_errors\",\n",
    "    \"frames_received\",\n",
    "    \"frames_with_errors\"\n",
    "])\n",
    "\n",
    "results.fpga = results.hostname .* \"_\" .* results.bdf \n",
    "results.port = results.fpga .* \"_\" .* string.(results.rank .% 2)\n",
    "results.latency = results.transmission_time ./ results.iterations\n",
    "results.throughput = results.message_size ./ results.latency\n",
    "results.throughput_gbit_s = results.throughput * 8 / 1e9\n",
    "\n",
    "results"
   ]
  },
  {
   "cell_type": "code",
   "execution_count": null,
   "metadata": {},
   "outputs": [],
   "source": [
    "function check(df, by)\n",
    "    sort(\n",
    "        combine(\n",
    "            groupby(df, by),\n",
    "            nrow => :count,\n",
    "            :failed_transmissions => sum => :failed_transmissions,\n",
    "            :byte_errors => sum => :byte_errors,\n",
    "            :frames_with_errors => sum => :frame_errors,\n",
    "            :status_not_ok_count => sum => :status_errors,\n",
    "            :fifo_rx_overflow_count => sum => :fifo_rx_overflows,\n",
    "            :fifo_tx_overflow_count => sum => :fifo_tx_overflows,\n",
    "        ),\n",
    "        by\n",
    "    )\n",
    "end\n",
    "\n",
    "print(check(results, :hostname))\n",
    "print(check(results, :fpga))\n",
    "print(check(results, :port))\n"
   ]
  },
  {
   "cell_type": "code",
   "execution_count": null,
   "metadata": {},
   "outputs": [],
   "source": [
    "function check_error_type(df, by)\n",
    "    sort(\n",
    "        unstack(\n",
    "            combine(\n",
    "                groupby(df, [by, :failed_transmissions]),\n",
    "                nrow => :count\n",
    "            ),\n",
    "            :failed_transmissions,\n",
    "            :count,\n",
    "        ),\n",
    "        by\n",
    "    )\n",
    "end\n",
    "\n",
    "print(check_error_type(results, :hostname))\n",
    "print(check_error_type(results, :fpga))\n",
    "print(check_error_type(results, :port))\n"
   ]
  },
  {
   "cell_type": "code",
   "execution_count": null,
   "metadata": {},
   "outputs": [],
   "source": [
    "function aggregate_means(df)\n",
    "    combine(\n",
    "        groupby(df, [:frame_size, :message_size]),\n",
    "        :latency => minimum => :latency_min,\n",
    "        :latency => mean => :latency_avg,\n",
    "        :latency => maximum => :latency_max,\n",
    "        :throughput => minimum => :throughput_min,\n",
    "        :throughput => mean => :throughput_avg,\n",
    "        :throughput => maximum => :throughput_max,\n",
    "        :throughput_gbit_s => minimum => :throughput_gbit_s_min,\n",
    "        :throughput_gbit_s => mean => :throughput_gbit_s_avg,\n",
    "        :throughput_gbit_s => maximum => :throughput_gbit_s_max,\n",
    "        nrow => :count,\n",
    "        :failed_transmissions => sum => :failed_transmissions,\n",
    "        :byte_errors => sum => :byte_errors,\n",
    "        :frames_with_errors => sum => :frame_errors,\n",
    "    )\n",
    "end\n",
    "\n",
    "means = aggregate_means(results)\n",
    "\n",
    "function tabulate(df, value)\n",
    "    unstacked = unstack(\n",
    "        df,\n",
    "        :message_size,\n",
    "        :frame_size,\n",
    "        value\n",
    "    )\n",
    "    unstacked[:,vcat(\n",
    "        [\"message_size\"],\n",
    "        sort(setdiff(names(unstacked), [\"message_size\"]), by = fs -> parse(Int, fs))\n",
    "    )]\n",
    "\n",
    "end"
   ]
  },
  {
   "cell_type": "code",
   "execution_count": null,
   "metadata": {},
   "outputs": [],
   "source": [
    "println(\"Results\")\n",
    "println(tabulate(means, :count))\n",
    "println(\"Failed transmissions\")\n",
    "println(tabulate(means, :failed_transmissions))\n",
    "println(\"Byte errors\")\n",
    "println(tabulate(means, :byte_errors))\n",
    "println(\"Frame errors\")\n",
    "println(tabulate(means, :frame_errors))"
   ]
  },
  {
   "cell_type": "code",
   "execution_count": null,
   "metadata": {},
   "outputs": [],
   "source": [
    "println(\"Minimum Latency\")\n",
    "println(tabulate(means, :latency_min))\n",
    "println(\"Average Latency\")\n",
    "println(tabulate(means, :latency_avg))\n",
    "println(\"Maximum Latency\")\n",
    "println(tabulate(means, :latency_max))"
   ]
  },
  {
   "cell_type": "code",
   "execution_count": null,
   "metadata": {},
   "outputs": [],
   "source": [
    "println(\"Minimum Throughput\")\n",
    "println(tabulate(means, :throughput_gbit_s_min))\n",
    "println(\"Average Throughput\")\n",
    "println(tabulate(means, :throughput_gbit_s_avg))\n",
    "println(\"Maximum Throughput\")\n",
    "println(tabulate(means, :throughput_gbit_s_max))"
   ]
  },
  {
   "cell_type": "code",
   "execution_count": 23,
   "metadata": {},
   "outputs": [],
   "source": []
  },
  {
   "cell_type": "code",
   "execution_count": 24,
   "metadata": {},
   "outputs": [],
   "source": []
  },
  {
   "cell_type": "code",
   "execution_count": 25,
   "metadata": {},
   "outputs": [],
   "source": []
  },
  {
   "cell_type": "code",
   "execution_count": 26,
   "metadata": {},
   "outputs": [],
   "source": []
  },
  {
   "cell_type": "code",
   "execution_count": 27,
   "metadata": {},
   "outputs": [],
   "source": []
  }
 ],
 "metadata": {
  "kernelspec": {
   "display_name": "Julia 1.10.4",
   "language": "julia",
   "name": "julia-1.10"
  },
  "language_info": {
   "file_extension": ".jl",
   "mimetype": "application/julia",
   "name": "julia",
   "version": "1.10.4"
  }
 },
 "nbformat": 4,
 "nbformat_minor": 2
}
