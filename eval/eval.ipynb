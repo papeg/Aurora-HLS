{
 "cells": [
  {
   "cell_type": "code",
   "execution_count": null,
   "id": "fa4170f8",
   "metadata": {},
   "outputs": [],
   "source": [
    "import numpy as np\n",
    "import pandas as pd\n",
    "import matplotlib.pyplot as plt\n",
    "from math import log2"
   ]
  },
  {
   "cell_type": "code",
   "execution_count": null,
   "id": "ae4f7b8f",
   "metadata": {},
   "outputs": [],
   "source": [
    "def import_results(filename):\n",
    "    try:\n",
    "        df = pd.read_csv(filename, names=[\"node\", \"repetition\", \"instance\", \"frame_size\", \"num_bytes\", \"iterations\", \"transmission_time\", \"use_ack\"])\n",
    "        print(\"imported \" + filename)\n",
    "    except FileNotFoundError:\n",
    "        return pd.DataFrame()\n",
    "    df[\"average_transmission_time\"] = df[\"transmission_time\"] / df[\"iterations\"].values\n",
    "    df[\"throughput\"] = df[\"num_bytes\"] / df[\"average_transmission_time\"]\n",
    "    df[\"throughput_gbit/s\"] = df[\"throughput\"] * 8 / 1000000000\n",
    "    return df"
   ]
  },
  {
   "cell_type": "code",
   "execution_count": null,
   "id": "7c2c3ff9",
   "metadata": {},
   "outputs": [],
   "source": [
    "results = import_results(\"latency_tests.csv\")\n",
    "results"
   ]
  },
  {
   "cell_type": "code",
   "execution_count": null,
   "id": "4f097d2e",
   "metadata": {},
   "outputs": [],
   "source": [
    "def count_results_per_node(results):\n",
    "    nodes = results['node'].unique()\n",
    "    nodes.sort() \n",
    "    for node in nodes:\n",
    "        print(\"{}: {} results\".format(node, results[results[\"node\"] == node].shape[0]))\n",
    "\n",
    "count_results_per_node(results)"
   ]
  },
  {
   "cell_type": "code",
   "execution_count": null,
   "id": "2c51cb79",
   "metadata": {},
   "outputs": [],
   "source": [
    "bytesizes = results['num_bytes'].unique()\n",
    "bytesizes.sort()\n",
    "framesizes = results['frame_size'].unique()\n",
    "framesizes.sort()\n",
    "# move 0 for streaming at the end\n",
    "framesizes = np.roll(framesizes, -1)\n",
    "\n",
    "def tabulate(df, col):\n",
    "    data = [[df[col][df['frame_size'] == f][df['num_bytes'] == b].mean() for f in framesizes] for b in bytesizes] \n",
    "    return pd.DataFrame(data, columns=[str(f) for f in framesizes], index=[str(b) for b in bytesizes])\n",
    "\n",
    "tabulate(results, 'average_transmission_time')"
   ]
  },
  {
   "cell_type": "code",
   "execution_count": null,
   "id": "7b04d1dd",
   "metadata": {},
   "outputs": [],
   "source": [
    "def export_for_plot(df, frame_size=np.inf):\n",
    "    df = df[df['frame_size'] == frame_size]\n",
    "    for b in bytesizes:\n",
    "        print('{},{},QSFP,Aurora'.format(b, df['average_transmission_time'][df['num_bytes'] == b].mean()))\n",
    "\n",
    "export_for_plot(results, 1)"
   ]
  },
  {
   "cell_type": "code",
   "execution_count": null,
   "id": "d1d12152",
   "metadata": {},
   "outputs": [],
   "source": [
    "def plot_over_filter_by(df, col, over, filter_by=None, override_title=None):\n",
    "    title = \"Average throughput over {}\".format(over)\n",
    "    if (filter_by is not None):\n",
    "        for key, val in filter_by.items():\n",
    "            df = df[df[key] == val]\n",
    "            title += \"\\n for {} = {}\".format(key, val)\n",
    "    if override_title is not None:\n",
    "        title = override_title\n",
    "    fig, axs = plt.subplots(figsize = (13, 9))\n",
    "    unique_values = df[over].unique()\n",
    "    unique_values.sort()\n",
    "    if (over == 'num_bytes'):\n",
    "        keys = [str(int(log2(v))) for v in unique_values]\n",
    "    else:\n",
    "        unique_values = np.roll(unique_values, -1)\n",
    "        keys = [str(int(v)) for v in unique_values]\n",
    "    values = [df[col][df[over] == v].mean() for v in unique_values]\n",
    "    bar_plot = axs.bar(keys, values)\n",
    "    axs.set_ylabel(\"Throughput [Gbit/s]\")\n",
    "    axs.set_xlabel(over)\n",
    "    bar_labels = [\"{:10.2f}\".format(v) for v in values]\n",
    "    for rect, label in zip(axs.patches, bar_labels):\n",
    "        axs.text(rect.get_x() - (rect.get_width() / 4), rect.get_height() + 1.0, label)\n",
    "    plt.title(title)\n",
    "    plt.show()"
   ]
  },
  {
   "cell_type": "code",
   "execution_count": null,
   "id": "defe5c86",
   "metadata": {},
   "outputs": [],
   "source": [
    "plot_over_filter_by(results[results['frame_size'] < 2049], \"throughput_gbit/s\", 'frame_size', filter_by={'num_bytes': 268435456}, override_title=\"\")"
   ]
  },
  {
   "cell_type": "code",
   "execution_count": null,
   "id": "7073d2be",
   "metadata": {},
   "outputs": [],
   "source": [
    "for frame_size in framesizes:\n",
    "    plot_over_filter_by(results, \"throughput_gbit/s\", 'num_bytes', filter_by={'frame_size': frame_size})"
   ]
  },
  {
   "cell_type": "code",
   "execution_count": null,
   "id": "5214218a",
   "metadata": {},
   "outputs": [],
   "source": [
    "for message_size in bytesizes:\n",
    "    plot_over_filter_by(results, \"throughput_gbit/s\", 'frame_size', filter_by={'num_bytes': message_size})"
   ]
  },
  {
   "cell_type": "code",
   "execution_count": null,
   "id": "92a0dee0",
   "metadata": {},
   "outputs": [],
   "source": [
    "plot_over_filter_by(results, \"throughput_gbit/s\", \"node\")"
   ]
  },
  {
   "cell_type": "code",
   "execution_count": null,
   "id": "a25b94f3",
   "metadata": {},
   "outputs": [],
   "source": [
    "def violin_over_nodes(df, key):\n",
    "    nodes = df['node'].unique()\n",
    "    nodes.sort()\n",
    "    fig, axs = plt.subplots(nrows=2, ncols=int(len(nodes) / 2), figsize=(16, 9))\n",
    "    for i, node in enumerate(nodes):\n",
    "        data = df[df['node'] == node][key]\n",
    "        subaxs = axs[i % 2, int(i / 2)]\n",
    "        subaxs.violinplot(data, points=100, showmeans=True, showextrema=True, showmedians=True)\n",
    "        subaxs.set_title(node)\n",
    "        subaxs.set_xticks([])\n",
    "    for i in range(2):\n",
    "        axs[i, 0].set_ylabel('Throughput [Gbit/s]')\n",
    "\n",
    "violin_over_nodes(results, 'throughput_gbit/s')"
   ]
  }
 ],
 "metadata": {
  "kernelspec": {
   "display_name": "Python 3 (ipykernel)",
   "language": "python",
   "name": "python3"
  },
  "language_info": {
   "codemirror_mode": {
    "name": "ipython",
    "version": 3
   },
   "file_extension": ".py",
   "mimetype": "text/x-python",
   "name": "python",
   "nbconvert_exporter": "python",
   "pygments_lexer": "ipython3",
   "version": "3.6.8"
  }
 },
 "nbformat": 4,
 "nbformat_minor": 5
}
