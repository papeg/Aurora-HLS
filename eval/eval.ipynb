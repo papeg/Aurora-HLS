{
 "cells": [
  {
   "cell_type": "code",
   "execution_count": 74,
   "metadata": {},
   "outputs": [],
   "source": [
    "using CSV\n",
    "using DataFrames\n",
    "using Statistics"
   ]
  },
  {
   "cell_type": "code",
   "execution_count": null,
   "metadata": {},
   "outputs": [],
   "source": [
    "results = CSV.read(\"latency_tests.csv\", DataFrame, header = [\n",
    "    \"hostname\",\n",
    "    \"job_id\",\n",
    "    \"commit_id\",\n",
    "    \"xrt_version\",\n",
    "    \"repetition\",\n",
    "    \"rank\",\n",
    "    \"frame_size\",\n",
    "    \"message_size\",\n",
    "    \"iterations\",\n",
    "    \"test_nfc\",        \n",
    "    \"transmission_time\",\n",
    "    \"failed_transmissions\",\n",
    "    \"core_status\",\n",
    "    \"fifo_status\",\n",
    "    \"errors\",\n",
    "    \"frames_received\",\n",
    "    \"frames_with_errors\"\n",
    "])\n",
    "\n",
    "results.latency = results.transmission_time ./ results.iterations\n",
    "results.throughput = results.message_size ./ results.latency\n",
    "results.throughput_gbit_s = results.throughput * 8 / 1e9"
   ]
  },
  {
   "cell_type": "code",
   "execution_count": null,
   "metadata": {},
   "outputs": [],
   "source": [
    "function check(df)\n",
    "    sort(\n",
    "        combine(\n",
    "            groupby(df, :hostname),\n",
    "            nrow => :count,\n",
    "            :failed_transmissions => sum => :failed_transmissions,\n",
    "            :errors => sum => :byte_errors,\n",
    "            :frames_with_errors => sum => :frame_errors,\n",
    "        ),\n",
    "        :hostname\n",
    "    )\n",
    "end\n",
    "\n",
    "check(results)"
   ]
  },
  {
   "cell_type": "code",
   "execution_count": null,
   "metadata": {},
   "outputs": [],
   "source": [
    "function aggregate_means(df)\n",
    "    combine(\n",
    "        groupby(df, [:frame_size, :message_size]),\n",
    "        :latency => mean => :latency,\n",
    "        :throughput => mean => :throughput,\n",
    "        :throughput_gbit_s => mean => :throughput_gbit_s,\n",
    "        nrow => :count,\n",
    "        :failed_transmissions => sum => :failed_transmissions,\n",
    "        :errors => sum => :byte_errors,\n",
    "        :frames_with_errors => sum => :frame_errors,\n",
    "    )\n",
    "end\n",
    "\n",
    "means = aggregate_means(results)\n",
    "\n",
    "function tabulate(df, value)\n",
    "    unstacked = unstack(\n",
    "        df,\n",
    "        :message_size,\n",
    "        :frame_size,\n",
    "        value\n",
    "    )\n",
    "    unstacked[:,vcat(\n",
    "        [\"message_size\"],\n",
    "        sort(setdiff(names(unstacked), [\"message_size\"]), by = fs -> parse(Int, fs))\n",
    "    )]\n",
    "\n",
    "end\n",
    "\n",
    "display(tabulate(means, :count))\n",
    "display(tabulate(means, :failed_transmissions))\n",
    "display(tabulate(means, :byte_errors))\n",
    "display(tabulate(means, :frame_errors))\n",
    "display(tabulate(means, :latency))\n",
    "display(tabulate(means, :throughput_gbit_s))"
   ]
  }
 ],
 "metadata": {
  "kernelspec": {
   "display_name": "Julia 1.10.4",
   "language": "julia",
   "name": "julia-1.10"
  },
  "language_info": {
   "file_extension": ".jl",
   "mimetype": "application/julia",
   "name": "julia",
   "version": "1.10.4"
  }
 },
 "nbformat": 4,
 "nbformat_minor": 2
}
